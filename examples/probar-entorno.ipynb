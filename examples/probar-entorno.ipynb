{
 "cells": [
  {
   "cell_type": "markdown",
   "metadata": {},
   "source": [
    "## Máster en Big Data y Data Science\n",
    "\n",
    "### Metodologías de gestión y diseño de proyectos de big data\n",
    "\n",
    "#### Sesión Práctica 01 - Introducción\n",
    "\n",
    "---\n",
    "\n",
    "En esta libreta se realiza la importación de las librerías a utilizar durante la ejecución de la práctica de la asignatura. El objetivo es verificar que el entorno especificado haya podido ser replicado en el equipo de cada estudiante."
   ]
  },
  {
   "cell_type": "code",
   "execution_count": null,
   "metadata": {},
   "outputs": [],
   "source": [
    "import pandas as pd\n",
    "import numpy as np\n",
    "import matplotlib as plt\n",
    "import mlflow\n",
    "import sklearn\n",
    "import ydata_profiling as ydp\n",
    "import streamlit as st\n",
    "import fastapi as fa\n",
    "import pytest as pt\n",
    "import pandera as pa\n",
    "import great_expectations as gx\n",
    "\n",
    "print(\"Pandas version: \", pd.__version__)\n",
    "print(\"Numpy version: \", np.__version__)\n",
    "print(\"Matplotlib version: \", plt.__version__)\n",
    "print(\"MLFlow version: \", mlflow.__version__)\n",
    "print(\"Sklearn version: \", sklearn.__version__)\n",
    "print(\"YData Profiling version: \", ydp.__version__)\n",
    "print(\"Streamlit version: \", st.__version__)\n",
    "print(\"FastAPI version: \", fa.__version__)\n",
    "print(\"PyTest version: \", pt.__version__)\n",
    "print(\"Pandera version: \", pa.__version__)\n",
    "print(\"Great Expectations version: \", gx.__version__)"
   ]
  }
 ],
 "metadata": {
  "kernelspec": {
   "display_name": "template-13mbid",
   "language": "python",
   "name": "python3"
  },
  "language_info": {
   "codemirror_mode": {
    "name": "ipython",
    "version": 3
   },
   "file_extension": ".py",
   "mimetype": "text/x-python",
   "name": "python",
   "nbconvert_exporter": "python",
   "pygments_lexer": "ipython3",
   "version": "3.12.11"
  },
  "orig_nbformat": 4
 },
 "nbformat": 4,
 "nbformat_minor": 2
}
