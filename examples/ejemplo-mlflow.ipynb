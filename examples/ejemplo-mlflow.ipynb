{
 "cells": [
  {
   "cell_type": "markdown",
   "metadata": {},
   "source": [
    "## Máster en Big Data y Data Science\n",
    "\n",
    "### Metodologías de gestión y diseño de proyectos de big data\n",
    "\n",
    "#### Sesión Práctica 01 - Ejemplo mlflow\n",
    "\n",
    "---\n",
    "\n",
    "En esta libreta se realizan una serie de pasos básicos para verificar la operatoria a seguir con respecto al registro del entrenamiento y evaluación de modelos de aprendizaje automático utilizando la librería mlflow."
   ]
  },
  {
   "cell_type": "code",
   "execution_count": null,
   "metadata": {},
   "outputs": [],
   "source": [
    "import mlflow\n",
    "import numpy as np\n",
    "\n",
    "from sklearn.datasets import load_iris\n",
    "from sklearn.cluster import DBSCAN, KMeans\n",
    "from sklearn.metrics import (\n",
    "    silhouette_score,\n",
    "    davies_bouldin_score,\n",
    ")"
   ]
  },
  {
   "cell_type": "markdown",
   "metadata": {},
   "source": [
    "Se realiza en primera instancia la lectura del conjunto de datos que será uno genérico."
   ]
  },
  {
   "cell_type": "code",
   "execution_count": null,
   "metadata": {},
   "outputs": [],
   "source": [
    "db = load_iris()\n",
    "features = db.data\n",
    "target = db.target"
   ]
  },
  {
   "cell_type": "markdown",
   "metadata": {},
   "source": [
    "Se ejecuta un método de clusterización haciendo uso de \"autolog\" de parte de la librería. Esta es una opción básica de registro que es de utilidad para los métodos de sklearn."
   ]
  },
  {
   "cell_type": "code",
   "execution_count": null,
   "metadata": {},
   "outputs": [],
   "source": [
    "# Opción básica\n",
    "mlflow.autolog()\n",
    "\n",
    "# Clustering con DBSCAN.\n",
    "dbscan = DBSCAN(eps=0.5, min_samples=5)\n",
    "\n",
    "dbscan.fit_predict(features)"
   ]
  },
  {
   "cell_type": "code",
   "execution_count": null,
   "metadata": {},
   "outputs": [],
   "source": [
    "# Clustering con Kmeans.\n",
    "kmeans = KMeans(n_clusters=3, random_state=42)\n",
    "\n",
    "kmeans.fit_predict(features)\n",
    "\n",
    "# davies_bouldin_score(features, kmeans.fit_predict(features))"
   ]
  },
  {
   "cell_type": "markdown",
   "metadata": {},
   "source": [
    "Se muestran ejemplos con una denominación diferente para la experimentación a realizar a fin de dejar mayor registro."
   ]
  },
  {
   "cell_type": "code",
   "execution_count": null,
   "metadata": {},
   "outputs": [],
   "source": [
    "# Se puede hacer una experimentación nominal\n",
    "\n",
    "exp_name = 'Clustering-Ejemplos'\n",
    "exp_id = mlflow.create_experiment(name=exp_name)\n",
    "\n",
    "with mlflow.start_run(experiment_id=exp_id, run_name=\"Kmeans - K=2\"):\n",
    "    modelo_clusters = KMeans(n_clusters=2)\n",
    "    trained_model = modelo_clusters.fit(features)\n",
    "    cluster_labels = trained_model.labels_\n",
    "    score = silhouette_score(features, cluster_labels)\n",
    "    #save parameter\n",
    "    mlflow.log_param('value_of_k', 2)\n",
    "    #save metric\n",
    "    mlflow.log_metric('silhoutte_score', score)\n",
    "    #save model\n",
    "    input_example = np.array([features[0]])  # Example input\n",
    "    mlflow.sklearn.log_model(trained_model, \"Clustering_Model\", input_example=input_example)\n",
    "    #end current run\n",
    "    mlflow.end_run()"
   ]
  },
  {
   "cell_type": "code",
   "execution_count": null,
   "metadata": {},
   "outputs": [],
   "source": [
    "with mlflow.start_run(experiment_id=exp_id, run_name=\"Kmeans - K=3\"):\n",
    "    modelo_clusters = KMeans(n_clusters=3)\n",
    "    trained_model = modelo_clusters.fit(features)\n",
    "    cluster_labels = trained_model.labels_\n",
    "    score = silhouette_score(features, cluster_labels)\n",
    "    score_2 = davies_bouldin_score(features, cluster_labels)\n",
    "    #save parameter\n",
    "    mlflow.log_param('value_of_k', 3)\n",
    "    #save metric\n",
    "    mlflow.log_metric('silhoutte_score', score)\n",
    "    mlflow.log_metric('davies_bouldin_score', score_2)\n",
    "    #save model\n",
    "    input_example = np.array([features[0]])  # Example input\n",
    "    mlflow.sklearn.log_model(trained_model, \"Clustering_Model\", input_example=input_example)\n",
    "    #end current run\n",
    "    mlflow.end_run()"
   ]
  },
  {
   "cell_type": "code",
   "execution_count": null,
   "metadata": {},
   "outputs": [],
   "source": [
    "with mlflow.start_run(experiment_id=exp_id, run_name=\"DBSCAN\"):\n",
    "    modelo_clusters = DBSCAN(eps=0.5, min_samples=5)\n",
    "    trained_model = modelo_clusters.fit(features)\n",
    "    cluster_labels = trained_model.labels_\n",
    "    score=silhouette_score(features, cluster_labels)\n",
    "    #save parameter\n",
    "    mlflow.log_param('min_samples', 5)\n",
    "    mlflow.log_param('eps', 0.5)\n",
    "    #save metric\n",
    "    mlflow.log_metric('silhoutte_score', score)\n",
    "    #save model\n",
    "    input_example = np.array([features[0]])  # Example input\n",
    "    mlflow.sklearn.log_model(trained_model, \"Clustering_Model\", input_example=input_example)\n",
    "    #end current run\n",
    "    mlflow.end_run()"
   ]
  },
  {
   "cell_type": "markdown",
   "metadata": {},
   "source": [
    "Este comando es el que permite visualizar la interfaz de mlflow en un navegador web. Se debe considerar ejecutarlo en la misma ubicación que contiene al directorio `mlruns`."
   ]
  },
  {
   "cell_type": "code",
   "execution_count": null,
   "metadata": {},
   "outputs": [],
   "source": [
    "!mlflow ui"
   ]
  }
 ],
 "metadata": {
  "kernelspec": {
   "display_name": ".venv",
   "language": "python",
   "name": "python3"
  },
  "language_info": {
   "codemirror_mode": {
    "name": "ipython",
    "version": 3
   },
   "file_extension": ".py",
   "mimetype": "text/x-python",
   "name": "python",
   "nbconvert_exporter": "python",
   "pygments_lexer": "ipython3",
   "version": "3.12.3"
  },
  "orig_nbformat": 4
 },
 "nbformat": 4,
 "nbformat_minor": 2
}
